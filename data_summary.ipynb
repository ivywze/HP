{
 "cells": [
  {
   "cell_type": "markdown",
   "metadata": {},
   "source": [
    "## Table Of Content:\n",
    "\n",
    "\n",
    "### 1. [Dataset categories](#dataset)\n",
    "### 2. [Pre-processing](#preprocess)\n",
    "### 3. [1-d data description](#onedim)\n",
    "### 4. [Questions](#qs)\n",
    "* [Can one patient have multiple type of seizures?](#seizures)\n",
    "* [How many patients in total?](#patients)\n",
    "* [How many records are there for each seizure type?](#records)"
   ]
  },
  {
   "cell_type": "markdown",
   "metadata": {},
   "source": [
    "## Dataset Categories <a class=\"anchor\" id=\"dataset\"></a>\n",
    "    Categories of dataset:\n",
    "    index                  int. index of record\n",
    "    fileNo                 int. follow the file categories, same for one file\n",
    "    patient                int. patient ID\n",
    "    session                str. sxxx one patient could have mutiple sessions\n",
    "    file                   str. txxx one session could have mutiple files\n",
    "    EEGtype                str. EMU, ICU, Inpatient, Outpatient, Unknown\n",
    "    EEGsubtype             str. {EMU: EMU, ICU: [NICU,RICU,NSICU,SICU,CICU,BURN,ICU,,PICU], Inpatient: [ER, OR, General], Outpatient: Outpatient, Unknown: Unknown}\n",
    "    LTM-or-Routine         str. Routine, LTM\n",
    "    Normal/Abnormal        str. Normal, Abnormal\n",
    "    No.Seizures/File       int. number of serzures per file\n",
    "    No.Seizures/Session    int. number of serzures per session\n",
    "    floderType             str. train, dev\n",
    "    channelConfig          str. 01_tcp_ar, 02_tcp_le, 03_tcp_ar_a\n",
    "    date                   str. record date\n",
    "    start                  float. seizure start time in the file (sec)\n",
    "    end                    float. seizure end time in the file (sec)\n",
    "    seizureType            str. FNSZ, GNSZ, CPSZ, TCSZ, ABSZ, TNSZ, SPSZ, MYSZ\n",
    "    link                   str. link of the webpage\n",
    "    size                   float. file size of .edf file"
   ]
  },
  {
   "cell_type": "code",
   "execution_count": 1,
   "metadata": {},
   "outputs": [],
   "source": [
    "import re\n",
    "import numpy as np\n",
    "import pandas as pd\n",
    "import matplotlib.pyplot as plt\n",
    "import seaborn as sns"
   ]
  },
  {
   "cell_type": "code",
   "execution_count": 2,
   "metadata": {},
   "outputs": [
    {
     "name": "stdout",
     "output_type": "stream",
     "text": [
      "<class 'pandas.core.frame.DataFrame'>\n",
      "RangeIndex: 7513 entries, 0 to 7512\n",
      "Data columns (total 19 columns):\n",
      "index                  7513 non-null int64\n",
      "fileNo                 7513 non-null int64\n",
      "patient                1423 non-null float64\n",
      "session                1423 non-null object\n",
      "file                   5612 non-null object\n",
      "EEGtype                1423 non-null object\n",
      "EEGsubtype             1423 non-null object\n",
      "LTM-or-Routine         1423 non-null object\n",
      "Normal/Abnormal        1423 non-null object\n",
      "No.Seizures/File       5612 non-null float64\n",
      "No.Seizures/Session    1423 non-null float64\n",
      "floderType             7513 non-null object\n",
      "channelConfig          7513 non-null object\n",
      "date                   7513 non-null object\n",
      "start                  3050 non-null float64\n",
      "end                    3050 non-null float64\n",
      "seizureType            3050 non-null object\n",
      "link                   7513 non-null object\n",
      "size                   7513 non-null float64\n",
      "dtypes: float64(6), int64(2), object(11)\n",
      "memory usage: 1.1+ MB\n"
     ]
    }
   ],
   "source": [
    "df = pd.read_csv('data/seizureSummary.csv')\n",
    "df.info()"
   ]
  },
  {
   "cell_type": "code",
   "execution_count": 3,
   "metadata": {},
   "outputs": [],
   "source": [
    "df_copy = df.copy()"
   ]
  },
  {
   "cell_type": "markdown",
   "metadata": {},
   "source": [
    "##  pre-processing  <a class=\"anchor\" id=\"preprocess\"></a>\n",
    "\n",
    "  "
   ]
  },
  {
   "cell_type": "code",
   "execution_count": 4,
   "metadata": {},
   "outputs": [],
   "source": [
    "# fill NA by fill in th above value\n",
    "df[['patient', 'session', 'file','EEGtype','EEGsubtype','LTM-or-Routine','Normal/Abnormal','No.Seizures/File','No.Seizures/Session']] = df[['patient', 'session','file','EEGtype','EEGsubtype','LTM-or-Routine','Normal/Abnormal','No.Seizures/File','No.Seizures/Session']].fillna(method='ffill') #fill below\n",
    "\n",
    "# data type transform\n",
    "df[\"patient\"] = df['patient'].astype(int).astype(str)\n",
    "\n",
    "# clean EEGtype & EEGsubtype'Unknown' --> EEG Report Is Not Informative\n",
    "unknown = df[df['EEGtype'] == 'Unknown']\n",
    "df = df.drop(unknown.index, axis=0) \n",
    "unknown = df[df['EEGsubtype'] == 'Unknown']\n",
    "df = df.drop(unknown.index, axis=0) \n",
    "\n",
    "# sort for easier access\n",
    "df = df.sort_values(by=['patient','EEGsubtype'])"
   ]
  },
  {
   "cell_type": "markdown",
   "metadata": {},
   "source": [
    "### condition: If one patient have different type of EEG, treat it as different patient."
   ]
  },
  {
   "cell_type": "code",
   "execution_count": 5,
   "metadata": {},
   "outputs": [],
   "source": [
    "# differenate patients with same EEGsubtype by adding suffix\n",
    "df['patient_suffix'] = df.groupby('patient')['EEGsubtype'].transform(lambda x: (~x.duplicated()).cumsum())"
   ]
  },
  {
   "cell_type": "code",
   "execution_count": 6,
   "metadata": {},
   "outputs": [],
   "source": [
    "# add new column for patientID\n",
    "df['patientID'] = [str(col) + '0' for col in df['patient']] + df['patient_suffix'].astype(str)"
   ]
  },
  {
   "cell_type": "code",
   "execution_count": null,
   "metadata": {},
   "outputs": [],
   "source": []
  },
  {
   "cell_type": "markdown",
   "metadata": {},
   "source": [
    "\n",
    "## 1-d data description <a class=\"anchor\" id=\"onedim\"></a>\n"
   ]
  },
  {
   "cell_type": "code",
   "execution_count": 7,
   "metadata": {},
   "outputs": [
    {
     "data": {
      "text/plain": [
       "False    4383\n",
       "True      114\n",
       "Name: fileNo, dtype: int64"
      ]
     },
     "execution_count": 7,
     "metadata": {},
     "output_type": "execute_result"
    }
   ],
   "source": [
    "(df['fileNo'].value_counts() > 5).value_counts()"
   ]
  },
  {
   "cell_type": "markdown",
   "metadata": {},
   "source": [
    "\n",
    "### EEG type\n",
    "    "
   ]
  },
  {
   "cell_type": "code",
   "execution_count": 8,
   "metadata": {},
   "outputs": [
    {
     "data": {
      "text/plain": [
       "ICU           2789\n",
       "Inpatient     2363\n",
       "EMU           1577\n",
       "Outpatient     397\n",
       "Name: EEGtype, dtype: int64"
      ]
     },
     "execution_count": 8,
     "metadata": {},
     "output_type": "execute_result"
    }
   ],
   "source": [
    "df['EEGtype'].value_counts()"
   ]
  },
  {
   "cell_type": "markdown",
   "metadata": {},
   "source": [
    "### EEG subtype                    &                                     Seizure Type \n",
    "\n",
    "    BURN\tBurn Unit\t\t\t\t\t\t    FNSZ\tFocal Non-Specific Seizure\t\t\n",
    "    CICU\tCardiac Intensive Care\t\t\t   GNSZ\tGeneralized Non-Specific Seizure\t\t\n",
    "\tICU     Intensive Care Unit\t\t\t\t  SPSZ\tSimple Partial Seizure\t\t\n",
    "    NICU\tNeuro-ICU Facility \t\t\t\t  CPSZ\tComplex Partial Seizure\t\t\n",
    "    NSICU\tNeural Surgical ICU \t\t\t\tABSZ\tAbsence Seizure\t\t\n",
    "    PICU\tPediatric Intensive Care Unit\t\tTNSZ\tTonic Seizure\t\t\n",
    "    RICU\tRespiratory Intensive Care Unit\t  CNSZ\tClonic Seizure\t\t\n",
    "    SICU\tSurgical Intensive Care Unit\t\t TCSZ\tTonic Clonic Seizure\t\t\n",
    "                                                 ATSZ\tAtonic Seizure\t\t\n",
    "                                                 MYSZ\tMyoclonic Seizure\t\t"
   ]
  },
  {
   "cell_type": "code",
   "execution_count": 9,
   "metadata": {},
   "outputs": [
    {
     "data": {
      "text/plain": [
       "General       2354\n",
       "EMU           1580\n",
       "NICU          1164\n",
       "RICU           578\n",
       "NSICU          533\n",
       "Outpatient     396\n",
       "SICU           249\n",
       "CICU           156\n",
       "BURN            55\n",
       "ICU             44\n",
       "ER               9\n",
       "PICU             7\n",
       "OR               1\n",
       "Name: EEGsubtype, dtype: int64"
      ]
     },
     "execution_count": 9,
     "metadata": {},
     "output_type": "execute_result"
    }
   ],
   "source": [
    "df['EEGsubtype'].value_counts()"
   ]
  },
  {
   "cell_type": "code",
   "execution_count": 10,
   "metadata": {},
   "outputs": [
    {
     "data": {
      "text/plain": [
       "FNSZ    1788\n",
       "GNSZ     541\n",
       "CPSZ     349\n",
       "TNSZ      62\n",
       "SPSZ      52\n",
       "TCSZ      47\n",
       "ABSZ      45\n",
       "MYSZ       3\n",
       "Name: seizureType, dtype: int64"
      ]
     },
     "execution_count": 10,
     "metadata": {},
     "output_type": "execute_result"
    }
   ],
   "source": [
    "df['seizureType'].value_counts()"
   ]
  },
  {
   "cell_type": "markdown",
   "metadata": {},
   "source": [
    "### LTM-or-Routine\n",
    "    LTM: long-term-recording Routine: routine recording "
   ]
  },
  {
   "cell_type": "code",
   "execution_count": 11,
   "metadata": {},
   "outputs": [
    {
     "data": {
      "text/plain": [
       "LTM        4606\n",
       "Routine    2520\n",
       "Name: LTM-or-Routine, dtype: int64"
      ]
     },
     "execution_count": 11,
     "metadata": {},
     "output_type": "execute_result"
    }
   ],
   "source": [
    "df['LTM-or-Routine'].value_counts()"
   ]
  },
  {
   "cell_type": "code",
   "execution_count": 12,
   "metadata": {},
   "outputs": [
    {
     "data": {
      "text/html": [
       "<div>\n",
       "<style scoped>\n",
       "    .dataframe tbody tr th:only-of-type {\n",
       "        vertical-align: middle;\n",
       "    }\n",
       "\n",
       "    .dataframe tbody tr th {\n",
       "        vertical-align: top;\n",
       "    }\n",
       "\n",
       "    .dataframe thead th {\n",
       "        text-align: right;\n",
       "    }\n",
       "</style>\n",
       "<table border=\"1\" class=\"dataframe\">\n",
       "  <thead>\n",
       "    <tr style=\"text-align: right;\">\n",
       "      <th></th>\n",
       "      <th>patientID</th>\n",
       "      <th>size</th>\n",
       "    </tr>\n",
       "    <tr>\n",
       "      <th>LTM-or-Routine</th>\n",
       "      <th></th>\n",
       "      <th></th>\n",
       "    </tr>\n",
       "  </thead>\n",
       "  <tbody>\n",
       "    <tr>\n",
       "      <th>LTM</th>\n",
       "      <td>246</td>\n",
       "      <td>42304.136</td>\n",
       "    </tr>\n",
       "    <tr>\n",
       "      <th>Routine</th>\n",
       "      <td>557</td>\n",
       "      <td>40614.028</td>\n",
       "    </tr>\n",
       "  </tbody>\n",
       "</table>\n",
       "</div>"
      ],
      "text/plain": [
       "                patientID       size\n",
       "LTM-or-Routine                      \n",
       "LTM                   246  42304.136\n",
       "Routine               557  40614.028"
      ]
     },
     "execution_count": 12,
     "metadata": {},
     "output_type": "execute_result"
    }
   ],
   "source": [
    "# The No. of patients and the total file size for LTM and Routine recording\n",
    "\n",
    "df_LR_NoPatient = df.pivot_table(index=['LTM-or-Routine'],values = 'patientID',aggfunc=lambda x: len(x.unique()))\n",
    "df_LR_filesize = df.pivot_table(index=['LTM-or-Routine'],values = 'size',aggfunc=np.sum)\n",
    "pd.concat((df_LR_NoPatient, df_LR_filesize), axis=1)"
   ]
  },
  {
   "cell_type": "markdown",
   "metadata": {},
   "source": [
    "### Normal/Abnormal"
   ]
  },
  {
   "cell_type": "code",
   "execution_count": 13,
   "metadata": {},
   "outputs": [
    {
     "data": {
      "text/plain": [
       "Abnormal    6308\n",
       "Normal       818\n",
       "Name: Normal/Abnormal, dtype: int64"
      ]
     },
     "execution_count": 13,
     "metadata": {},
     "output_type": "execute_result"
    }
   ],
   "source": [
    "df['Normal/Abnormal'].value_counts()"
   ]
  },
  {
   "cell_type": "code",
   "execution_count": 14,
   "metadata": {},
   "outputs": [
    {
     "data": {
      "text/html": [
       "<div>\n",
       "<style scoped>\n",
       "    .dataframe tbody tr th:only-of-type {\n",
       "        vertical-align: middle;\n",
       "    }\n",
       "\n",
       "    .dataframe tbody tr th {\n",
       "        vertical-align: top;\n",
       "    }\n",
       "\n",
       "    .dataframe thead th {\n",
       "        text-align: right;\n",
       "    }\n",
       "</style>\n",
       "<table border=\"1\" class=\"dataframe\">\n",
       "  <thead>\n",
       "    <tr style=\"text-align: right;\">\n",
       "      <th></th>\n",
       "      <th></th>\n",
       "      <th>patientID</th>\n",
       "    </tr>\n",
       "    <tr>\n",
       "      <th>Normal/Abnormal</th>\n",
       "      <th>seizureType</th>\n",
       "      <th></th>\n",
       "    </tr>\n",
       "  </thead>\n",
       "  <tbody>\n",
       "    <tr>\n",
       "      <th rowspan=\"8\" valign=\"top\">Abnormal</th>\n",
       "      <th>ABSZ</th>\n",
       "      <td>9</td>\n",
       "    </tr>\n",
       "    <tr>\n",
       "      <th>CPSZ</th>\n",
       "      <td>41</td>\n",
       "    </tr>\n",
       "    <tr>\n",
       "      <th>FNSZ</th>\n",
       "      <td>153</td>\n",
       "    </tr>\n",
       "    <tr>\n",
       "      <th>GNSZ</th>\n",
       "      <td>74</td>\n",
       "    </tr>\n",
       "    <tr>\n",
       "      <th>MYSZ</th>\n",
       "      <td>2</td>\n",
       "    </tr>\n",
       "    <tr>\n",
       "      <th>SPSZ</th>\n",
       "      <td>3</td>\n",
       "    </tr>\n",
       "    <tr>\n",
       "      <th>TCSZ</th>\n",
       "      <td>11</td>\n",
       "    </tr>\n",
       "    <tr>\n",
       "      <th>TNSZ</th>\n",
       "      <td>3</td>\n",
       "    </tr>\n",
       "    <tr>\n",
       "      <th rowspan=\"6\" valign=\"top\">Normal</th>\n",
       "      <th>CPSZ</th>\n",
       "      <td>2</td>\n",
       "    </tr>\n",
       "    <tr>\n",
       "      <th>FNSZ</th>\n",
       "      <td>8</td>\n",
       "    </tr>\n",
       "    <tr>\n",
       "      <th>GNSZ</th>\n",
       "      <td>9</td>\n",
       "    </tr>\n",
       "    <tr>\n",
       "      <th>SPSZ</th>\n",
       "      <td>1</td>\n",
       "    </tr>\n",
       "    <tr>\n",
       "      <th>TCSZ</th>\n",
       "      <td>2</td>\n",
       "    </tr>\n",
       "    <tr>\n",
       "      <th>TNSZ</th>\n",
       "      <td>1</td>\n",
       "    </tr>\n",
       "  </tbody>\n",
       "</table>\n",
       "</div>"
      ],
      "text/plain": [
       "                             patientID\n",
       "Normal/Abnormal seizureType           \n",
       "Abnormal        ABSZ                 9\n",
       "                CPSZ                41\n",
       "                FNSZ               153\n",
       "                GNSZ                74\n",
       "                MYSZ                 2\n",
       "                SPSZ                 3\n",
       "                TCSZ                11\n",
       "                TNSZ                 3\n",
       "Normal          CPSZ                 2\n",
       "                FNSZ                 8\n",
       "                GNSZ                 9\n",
       "                SPSZ                 1\n",
       "                TCSZ                 2\n",
       "                TNSZ                 1"
      ]
     },
     "execution_count": 14,
     "metadata": {},
     "output_type": "execute_result"
    }
   ],
   "source": [
    "# Do not understand here -- why normal EEG still have seizure record?\n",
    "df.pivot_table(index=['Normal/Abnormal','seizureType'],values = 'patientID',aggfunc=lambda x: len(x.unique()))"
   ]
  },
  {
   "cell_type": "markdown",
   "metadata": {},
   "source": [
    "### channel Config -- LE & AR\n",
    "    Linked Ears Reference (A1+A2, LE, RE): based on the assumption that sites like the ears and mastoid bone lack electrical activity, often implemented using only one ear;\n",
    "\n",
    "    The Average Reference (AR): uses the average of a finite number of electrodes as a reference.\n",
    "    \n"
   ]
  },
  {
   "cell_type": "code",
   "execution_count": 15,
   "metadata": {},
   "outputs": [
    {
     "data": {
      "text/plain": [
       "01_tcp_ar      4912\n",
       "03_tcp_ar_a    1432\n",
       "02_tcp_le       782\n",
       "Name: channelConfig, dtype: int64"
      ]
     },
     "execution_count": 15,
     "metadata": {},
     "output_type": "execute_result"
    }
   ],
   "source": [
    "df['channelConfig'].value_counts()"
   ]
  },
  {
   "cell_type": "markdown",
   "metadata": {},
   "source": [
    "\n",
    "## Questions <a class=\"anchor\" id=\"qs\"></a>\n"
   ]
  },
  {
   "cell_type": "markdown",
   "metadata": {},
   "source": [
    "## Can one patient have multiple type of seizures?  <a class=\"anchor\" id=\"seizures\"></a>\n",
    "    Answer: Yes, among 257 patients with seizures, 48 have multiple type of seizures.\n"
   ]
  },
  {
   "cell_type": "code",
   "execution_count": 16,
   "metadata": {},
   "outputs": [
    {
     "data": {
      "text/plain": [
       "False    209\n",
       "True      48\n",
       "Name: patientID, dtype: int64"
      ]
     },
     "execution_count": 16,
     "metadata": {},
     "output_type": "execute_result"
    }
   ],
   "source": [
    "# count number of patient with different seizure type\n",
    "df = df.dropna(subset=['seizureType']) \n",
    "df_seizureType = df.drop_duplicates(['patientID','seizureType'])\n",
    "(df_seizureType['patientID'].value_counts() != 1).value_counts()"
   ]
  },
  {
   "cell_type": "code",
   "execution_count": 17,
   "metadata": {},
   "outputs": [
    {
     "data": {
      "text/plain": [
       "654602    5\n",
       "623001    4\n",
       "845301    3\n",
       "Name: patientID, dtype: int64"
      ]
     },
     "execution_count": 17,
     "metadata": {},
     "output_type": "execute_result"
    }
   ],
   "source": [
    "# example for same patient with different seizure type\n",
    "df_seizureType['patientID'].value_counts()[:3]"
   ]
  },
  {
   "cell_type": "code",
   "execution_count": 18,
   "metadata": {},
   "outputs": [
    {
     "data": {
      "text/html": [
       "<div>\n",
       "<style scoped>\n",
       "    .dataframe tbody tr th:only-of-type {\n",
       "        vertical-align: middle;\n",
       "    }\n",
       "\n",
       "    .dataframe tbody tr th {\n",
       "        vertical-align: top;\n",
       "    }\n",
       "\n",
       "    .dataframe thead th {\n",
       "        text-align: right;\n",
       "    }\n",
       "</style>\n",
       "<table border=\"1\" class=\"dataframe\">\n",
       "  <thead>\n",
       "    <tr style=\"text-align: right;\">\n",
       "      <th></th>\n",
       "      <th>index</th>\n",
       "      <th>fileNo</th>\n",
       "      <th>patient</th>\n",
       "      <th>session</th>\n",
       "      <th>file</th>\n",
       "      <th>EEGtype</th>\n",
       "      <th>EEGsubtype</th>\n",
       "      <th>LTM-or-Routine</th>\n",
       "      <th>Normal/Abnormal</th>\n",
       "      <th>No.Seizures/File</th>\n",
       "      <th>...</th>\n",
       "      <th>floderType</th>\n",
       "      <th>channelConfig</th>\n",
       "      <th>date</th>\n",
       "      <th>start</th>\n",
       "      <th>end</th>\n",
       "      <th>seizureType</th>\n",
       "      <th>link</th>\n",
       "      <th>size</th>\n",
       "      <th>patient_suffix</th>\n",
       "      <th>patientID</th>\n",
       "    </tr>\n",
       "  </thead>\n",
       "  <tbody>\n",
       "    <tr>\n",
       "      <th>1069</th>\n",
       "      <td>1070</td>\n",
       "      <td>736</td>\n",
       "      <td>6546</td>\n",
       "      <td>s033</td>\n",
       "      <td>t003</td>\n",
       "      <td>Inpatient</td>\n",
       "      <td>General</td>\n",
       "      <td>LTM</td>\n",
       "      <td>Abnormal</td>\n",
       "      <td>2.0</td>\n",
       "      <td>...</td>\n",
       "      <td>train</td>\n",
       "      <td>01_tcp_ar</td>\n",
       "      <td>2014_03_16</td>\n",
       "      <td>1.0000</td>\n",
       "      <td>29.0022</td>\n",
       "      <td>FNSZ</td>\n",
       "      <td>/train/01_tcp_ar/065/00006546/s033_2014_03_16/...</td>\n",
       "      <td>3.8</td>\n",
       "      <td>2</td>\n",
       "      <td>654602</td>\n",
       "    </tr>\n",
       "    <tr>\n",
       "      <th>6246</th>\n",
       "      <td>6247</td>\n",
       "      <td>96</td>\n",
       "      <td>6546</td>\n",
       "      <td>s014</td>\n",
       "      <td>t000</td>\n",
       "      <td>Inpatient</td>\n",
       "      <td>General</td>\n",
       "      <td>Routine</td>\n",
       "      <td>Abnormal</td>\n",
       "      <td>7.0</td>\n",
       "      <td>...</td>\n",
       "      <td>dev</td>\n",
       "      <td>01_tcp_ar</td>\n",
       "      <td>2011_03_15</td>\n",
       "      <td>90.9720</td>\n",
       "      <td>160.6720</td>\n",
       "      <td>GNSZ</td>\n",
       "      <td>/dev/01_tcp_ar/065/00006546/s014_2011_03_15/00...</td>\n",
       "      <td>24.0</td>\n",
       "      <td>2</td>\n",
       "      <td>654602</td>\n",
       "    </tr>\n",
       "    <tr>\n",
       "      <th>6315</th>\n",
       "      <td>6316</td>\n",
       "      <td>132</td>\n",
       "      <td>6546</td>\n",
       "      <td>s024</td>\n",
       "      <td>t000</td>\n",
       "      <td>Inpatient</td>\n",
       "      <td>General</td>\n",
       "      <td>LTM</td>\n",
       "      <td>Abnormal</td>\n",
       "      <td>4.0</td>\n",
       "      <td>...</td>\n",
       "      <td>dev</td>\n",
       "      <td>01_tcp_ar</td>\n",
       "      <td>2012_02_25</td>\n",
       "      <td>240.9727</td>\n",
       "      <td>286.5742</td>\n",
       "      <td>SPSZ</td>\n",
       "      <td>/dev/01_tcp_ar/065/00006546/s024_2012_02_25/00...</td>\n",
       "      <td>9.4</td>\n",
       "      <td>2</td>\n",
       "      <td>654602</td>\n",
       "    </tr>\n",
       "    <tr>\n",
       "      <th>6325</th>\n",
       "      <td>6326</td>\n",
       "      <td>136</td>\n",
       "      <td>6546</td>\n",
       "      <td>s025</td>\n",
       "      <td>t003</td>\n",
       "      <td>Inpatient</td>\n",
       "      <td>General</td>\n",
       "      <td>LTM</td>\n",
       "      <td>Abnormal</td>\n",
       "      <td>2.0</td>\n",
       "      <td>...</td>\n",
       "      <td>dev</td>\n",
       "      <td>01_tcp_ar</td>\n",
       "      <td>2012_02_26</td>\n",
       "      <td>741.5547</td>\n",
       "      <td>793.5547</td>\n",
       "      <td>CPSZ</td>\n",
       "      <td>/dev/01_tcp_ar/065/00006546/s025_2012_02_26/00...</td>\n",
       "      <td>17.0</td>\n",
       "      <td>2</td>\n",
       "      <td>654602</td>\n",
       "    </tr>\n",
       "    <tr>\n",
       "      <th>7506</th>\n",
       "      <td>7507</td>\n",
       "      <td>1007</td>\n",
       "      <td>6546</td>\n",
       "      <td>s013</td>\n",
       "      <td>t000</td>\n",
       "      <td>Inpatient</td>\n",
       "      <td>General</td>\n",
       "      <td>LTM</td>\n",
       "      <td>Abnormal</td>\n",
       "      <td>1.0</td>\n",
       "      <td>...</td>\n",
       "      <td>dev</td>\n",
       "      <td>03_tcp_ar_a</td>\n",
       "      <td>2011_02_18</td>\n",
       "      <td>290.0175</td>\n",
       "      <td>361.0775</td>\n",
       "      <td>TCSZ</td>\n",
       "      <td>/dev/03_tcp_ar_a/065/00006546/s013_2011_02_18/...</td>\n",
       "      <td>20.0</td>\n",
       "      <td>2</td>\n",
       "      <td>654602</td>\n",
       "    </tr>\n",
       "  </tbody>\n",
       "</table>\n",
       "<p>5 rows × 21 columns</p>\n",
       "</div>"
      ],
      "text/plain": [
       "      index  fileNo patient session  file    EEGtype EEGsubtype  \\\n",
       "1069   1070     736    6546    s033  t003  Inpatient    General   \n",
       "6246   6247      96    6546    s014  t000  Inpatient    General   \n",
       "6315   6316     132    6546    s024  t000  Inpatient    General   \n",
       "6325   6326     136    6546    s025  t003  Inpatient    General   \n",
       "7506   7507    1007    6546    s013  t000  Inpatient    General   \n",
       "\n",
       "     LTM-or-Routine Normal/Abnormal  No.Seizures/File    ...      floderType  \\\n",
       "1069            LTM        Abnormal               2.0    ...           train   \n",
       "6246        Routine        Abnormal               7.0    ...             dev   \n",
       "6315            LTM        Abnormal               4.0    ...             dev   \n",
       "6325            LTM        Abnormal               2.0    ...             dev   \n",
       "7506            LTM        Abnormal               1.0    ...             dev   \n",
       "\n",
       "     channelConfig        date     start       end  seizureType  \\\n",
       "1069     01_tcp_ar  2014_03_16    1.0000   29.0022         FNSZ   \n",
       "6246     01_tcp_ar  2011_03_15   90.9720  160.6720         GNSZ   \n",
       "6315     01_tcp_ar  2012_02_25  240.9727  286.5742         SPSZ   \n",
       "6325     01_tcp_ar  2012_02_26  741.5547  793.5547         CPSZ   \n",
       "7506   03_tcp_ar_a  2011_02_18  290.0175  361.0775         TCSZ   \n",
       "\n",
       "                                                   link  size  patient_suffix  \\\n",
       "1069  /train/01_tcp_ar/065/00006546/s033_2014_03_16/...   3.8               2   \n",
       "6246  /dev/01_tcp_ar/065/00006546/s014_2011_03_15/00...  24.0               2   \n",
       "6315  /dev/01_tcp_ar/065/00006546/s024_2012_02_25/00...   9.4               2   \n",
       "6325  /dev/01_tcp_ar/065/00006546/s025_2012_02_26/00...  17.0               2   \n",
       "7506  /dev/03_tcp_ar_a/065/00006546/s013_2011_02_18/...  20.0               2   \n",
       "\n",
       "      patientID  \n",
       "1069     654602  \n",
       "6246     654602  \n",
       "6315     654602  \n",
       "6325     654602  \n",
       "7506     654602  \n",
       "\n",
       "[5 rows x 21 columns]"
      ]
     },
     "execution_count": 18,
     "metadata": {},
     "output_type": "execute_result"
    }
   ],
   "source": [
    "df_seizureType[df_seizureType['patientID'] == '654602']"
   ]
  },
  {
   "cell_type": "markdown",
   "metadata": {},
   "source": [
    "### condition: If one patient have different type of seizures, treat it as different patient."
   ]
  },
  {
   "cell_type": "code",
   "execution_count": 19,
   "metadata": {},
   "outputs": [],
   "source": [
    "df = df.sort_values(by=['patientID', 'seizureType'],ascending=False)\n",
    "# differenate patients with same seizureType by adding suffix\n",
    "df['seizure_suffix'] = df.groupby('patientID')['seizureType'].transform(lambda x: (~x.duplicated()).cumsum())\n",
    "\n",
    "# add new column for patientID\n",
    "df['patientID2'] = [str(col) + '0' for col in df['patientID']] + df['seizure_suffix'].astype(str)"
   ]
  },
  {
   "cell_type": "markdown",
   "metadata": {},
   "source": [
    "## How many patients in total? <a class=\"anchor\" id=\"patients\"></a>\n",
    "    "
   ]
  },
  {
   "cell_type": "markdown",
   "metadata": {},
   "source": [
    "### In general: \n",
    "    Answer: There are 317 unique patients in total."
   ]
  },
  {
   "cell_type": "code",
   "execution_count": 26,
   "metadata": {},
   "outputs": [
    {
     "data": {
      "text/plain": [
       "317"
      ]
     },
     "execution_count": 26,
     "metadata": {},
     "output_type": "execute_result"
    }
   ],
   "source": [
    "# count number of unique patient \n",
    "df_patient = df.drop_duplicates(['patientID2'])\n",
    "df_patient['patientID2'].value_counts().sum()"
   ]
  },
  {
   "cell_type": "markdown",
   "metadata": {},
   "source": [
    "### By channel config: \n",
    "    Answer: \n",
    "    01_tcp_ar: 185\n",
    "    02_tcp_le: 77\n",
    "    03_tcp_ar_a: 74\n",
    "   "
   ]
  },
  {
   "cell_type": "code",
   "execution_count": 27,
   "metadata": {},
   "outputs": [
    {
     "name": "stdout",
     "output_type": "stream",
     "text": [
      "01_tcp_ar:  185\n",
      "02_tcp_le:  77\n",
      "03_tcp_ar_a: 74\n"
     ]
    }
   ],
   "source": [
    "\n",
    "print(\"01_tcp_ar: \", df.loc[df['channelConfig'] == '01_tcp_ar'].drop_duplicates(['patientID2'])['patientID2'].value_counts().sum())\n",
    "print(\"02_tcp_le: \", df.loc[df['channelConfig'] == '02_tcp_le'].drop_duplicates(['patientID2'])['patientID2'].value_counts().sum())\n",
    "print(\"03_tcp_ar_a:\", df.loc[df['channelConfig'] == '03_tcp_ar_a'].drop_duplicates(['patientID2'])['patientID2'].value_counts().sum())\n",
    "\n"
   ]
  },
  {
   "cell_type": "markdown",
   "metadata": {},
   "source": [
    "    result here shows one patient may have different recording by channel config."
   ]
  },
  {
   "cell_type": "markdown",
   "metadata": {},
   "source": [
    "## How many records are there for each seizure type? <a class=\"anchor\" id=\"records\"></a>\n",
    "\n",
    "    subquestion: How many records are there for each seizure type by channel config?\n",
    "    "
   ]
  },
  {
   "cell_type": "markdown",
   "metadata": {},
   "source": [
    "###   Seizure Type detailed\n",
    "    SEIZ\tSeizure\tThis class is a general class for seizure.\n",
    "    All the following specific seizure classes can fall into this universal seizure class.\n",
    "    \n",
    "    FNSZ\tFocal Non-Specific Seizure\tThis event should contain Lobe, Hemispheric and Focal seizures regardless of their location on the scalp (e.g. Temporal Lobe seizure, Left hemispheric seizures, etc..)\n",
    "    \n",
    "    GNSZ\tGeneralized Non-Specific Seizure\t\n",
    "    The seizures which occur over (almost) all the channels.\n",
    "    \n",
    "    SPSZ\tSimple Partial Seizure (Focal)\t\n",
    "    A Focal seizure containing simple waves which start from on area of the brain and (sometimes) spreads in brain towards other lobes. (not harmful and Patient is conscious).  Length: variable\n",
    "    \n",
    "    CPSZ\tComplex Partial Seizure (Focal)\t\n",
    "    Seizure which contains Complex waves. (Harmful, could be non-convulsive seizures). Length: variable\n",
    "    \n",
    "    ABSZ\tAbsence Seizure\t\n",
    "    Short brief seizures contains usually 3 to 6 Hz spike and wave complexes. Length: typically 3-4 seconds to upto 11-12 seconds\n",
    "    \n",
    "    TNSZ\tTonic Seizure\t\n",
    "    A type of a seizure which indicates stiffening of muscles. Length: variable\n",
    "    \n",
    "    CNSZ\tClonic Seizure\t\n",
    "    A type of a seizure which indicates continuous jerking of muscles. Length: variable\n",
    "    \n",
    "    TCSZ\tTonic-Clonic Seizure\t\n",
    "    The most severe Seizure includes stiffening in the beginning stage and jerking in later stage. Length: variable\n",
    "    \n",
    "    ATSZ\tAtonic Seizure\t\n",
    "    A very brief seizure (about  1 second long) where patient loses the consciousness for a second. (Not important for ICU patients at all). Length: 1 second\n",
    "    \n",
    "    MYSZ\tMyoclonic Seizure\t\n",
    "    very brief motor seizure event, which lasts about 1-2 seconds includes periodic jerks of muscles.  Length: 1-3 seconds\n",
    "    \n",
    "    NESZ\tNon-Epileptic Seizure\t\n",
    "    Seizures event which does not occur due epilepsy. Length: variable \n"
   ]
  },
  {
   "cell_type": "code",
   "execution_count": 28,
   "metadata": {},
   "outputs": [
    {
     "data": {
      "text/html": [
       "<div>\n",
       "<style scoped>\n",
       "    .dataframe tbody tr th:only-of-type {\n",
       "        vertical-align: middle;\n",
       "    }\n",
       "\n",
       "    .dataframe tbody tr th {\n",
       "        vertical-align: top;\n",
       "    }\n",
       "\n",
       "    .dataframe thead th {\n",
       "        text-align: right;\n",
       "    }\n",
       "</style>\n",
       "<table border=\"1\" class=\"dataframe\">\n",
       "  <thead>\n",
       "    <tr style=\"text-align: right;\">\n",
       "      <th></th>\n",
       "      <th>patientID2</th>\n",
       "      <th>size</th>\n",
       "    </tr>\n",
       "    <tr>\n",
       "      <th>seizureType</th>\n",
       "      <th></th>\n",
       "      <th></th>\n",
       "    </tr>\n",
       "  </thead>\n",
       "  <tbody>\n",
       "    <tr>\n",
       "      <th>ABSZ</th>\n",
       "      <td>9</td>\n",
       "      <td>879.200</td>\n",
       "    </tr>\n",
       "    <tr>\n",
       "      <th>CPSZ</th>\n",
       "      <td>43</td>\n",
       "      <td>5715.500</td>\n",
       "    </tr>\n",
       "    <tr>\n",
       "      <th>FNSZ</th>\n",
       "      <td>159</td>\n",
       "      <td>24926.372</td>\n",
       "    </tr>\n",
       "    <tr>\n",
       "      <th>GNSZ</th>\n",
       "      <td>83</td>\n",
       "      <td>9886.100</td>\n",
       "    </tr>\n",
       "    <tr>\n",
       "      <th>MYSZ</th>\n",
       "      <td>2</td>\n",
       "      <td>49.000</td>\n",
       "    </tr>\n",
       "    <tr>\n",
       "      <th>SPSZ</th>\n",
       "      <td>4</td>\n",
       "      <td>1874.700</td>\n",
       "    </tr>\n",
       "    <tr>\n",
       "      <th>TCSZ</th>\n",
       "      <td>13</td>\n",
       "      <td>734.800</td>\n",
       "    </tr>\n",
       "    <tr>\n",
       "      <th>TNSZ</th>\n",
       "      <td>4</td>\n",
       "      <td>544.700</td>\n",
       "    </tr>\n",
       "  </tbody>\n",
       "</table>\n",
       "</div>"
      ],
      "text/plain": [
       "             patientID2       size\n",
       "seizureType                       \n",
       "ABSZ                  9    879.200\n",
       "CPSZ                 43   5715.500\n",
       "FNSZ                159  24926.372\n",
       "GNSZ                 83   9886.100\n",
       "MYSZ                  2     49.000\n",
       "SPSZ                  4   1874.700\n",
       "TCSZ                 13    734.800\n",
       "TNSZ                  4    544.700"
      ]
     },
     "execution_count": 28,
     "metadata": {},
     "output_type": "execute_result"
    }
   ],
   "source": [
    "# size here refer to .edf file size in megabytes\n",
    "df_type_NoPatient = df.pivot_table(index=['seizureType'],values = 'patientID2',aggfunc=lambda x: len(x.unique()))\n",
    "df_type_filesize = df.pivot_table(index=['seizureType'],values = 'size',aggfunc=np.sum)\n",
    "pd.concat((df_type_NoPatient, df_type_filesize), axis=1)"
   ]
  },
  {
   "cell_type": "code",
   "execution_count": 29,
   "metadata": {},
   "outputs": [
    {
     "data": {
      "text/html": [
       "<div>\n",
       "<style scoped>\n",
       "    .dataframe tbody tr th:only-of-type {\n",
       "        vertical-align: middle;\n",
       "    }\n",
       "\n",
       "    .dataframe tbody tr th {\n",
       "        vertical-align: top;\n",
       "    }\n",
       "\n",
       "    .dataframe thead th {\n",
       "        text-align: right;\n",
       "    }\n",
       "</style>\n",
       "<table border=\"1\" class=\"dataframe\">\n",
       "  <thead>\n",
       "    <tr style=\"text-align: right;\">\n",
       "      <th></th>\n",
       "      <th></th>\n",
       "      <th>patientID2</th>\n",
       "      <th>size</th>\n",
       "    </tr>\n",
       "    <tr>\n",
       "      <th>channelConfig</th>\n",
       "      <th>seizureType</th>\n",
       "      <th></th>\n",
       "      <th></th>\n",
       "    </tr>\n",
       "  </thead>\n",
       "  <tbody>\n",
       "    <tr>\n",
       "      <th rowspan=\"8\" valign=\"top\">01_tcp_ar</th>\n",
       "      <th>ABSZ</th>\n",
       "      <td>1</td>\n",
       "      <td>48.000</td>\n",
       "    </tr>\n",
       "    <tr>\n",
       "      <th>CPSZ</th>\n",
       "      <td>17</td>\n",
       "      <td>1841.300</td>\n",
       "    </tr>\n",
       "    <tr>\n",
       "      <th>FNSZ</th>\n",
       "      <td>98</td>\n",
       "      <td>15230.311</td>\n",
       "    </tr>\n",
       "    <tr>\n",
       "      <th>GNSZ</th>\n",
       "      <td>53</td>\n",
       "      <td>7605.700</td>\n",
       "    </tr>\n",
       "    <tr>\n",
       "      <th>MYSZ</th>\n",
       "      <td>1</td>\n",
       "      <td>23.000</td>\n",
       "    </tr>\n",
       "    <tr>\n",
       "      <th>SPSZ</th>\n",
       "      <td>4</td>\n",
       "      <td>1874.700</td>\n",
       "    </tr>\n",
       "    <tr>\n",
       "      <th>TCSZ</th>\n",
       "      <td>7</td>\n",
       "      <td>382.800</td>\n",
       "    </tr>\n",
       "    <tr>\n",
       "      <th>TNSZ</th>\n",
       "      <td>4</td>\n",
       "      <td>544.700</td>\n",
       "    </tr>\n",
       "    <tr>\n",
       "      <th rowspan=\"6\" valign=\"top\">02_tcp_le</th>\n",
       "      <th>ABSZ</th>\n",
       "      <td>8</td>\n",
       "      <td>831.200</td>\n",
       "    </tr>\n",
       "    <tr>\n",
       "      <th>CPSZ</th>\n",
       "      <td>12</td>\n",
       "      <td>1767.900</td>\n",
       "    </tr>\n",
       "    <tr>\n",
       "      <th>FNSZ</th>\n",
       "      <td>38</td>\n",
       "      <td>4571.911</td>\n",
       "    </tr>\n",
       "    <tr>\n",
       "      <th>GNSZ</th>\n",
       "      <td>16</td>\n",
       "      <td>1461.100</td>\n",
       "    </tr>\n",
       "    <tr>\n",
       "      <th>MYSZ</th>\n",
       "      <td>1</td>\n",
       "      <td>26.000</td>\n",
       "    </tr>\n",
       "    <tr>\n",
       "      <th>TCSZ</th>\n",
       "      <td>2</td>\n",
       "      <td>259.000</td>\n",
       "    </tr>\n",
       "    <tr>\n",
       "      <th rowspan=\"4\" valign=\"top\">03_tcp_ar_a</th>\n",
       "      <th>CPSZ</th>\n",
       "      <td>17</td>\n",
       "      <td>2106.300</td>\n",
       "    </tr>\n",
       "    <tr>\n",
       "      <th>FNSZ</th>\n",
       "      <td>37</td>\n",
       "      <td>5124.150</td>\n",
       "    </tr>\n",
       "    <tr>\n",
       "      <th>GNSZ</th>\n",
       "      <td>16</td>\n",
       "      <td>819.300</td>\n",
       "    </tr>\n",
       "    <tr>\n",
       "      <th>TCSZ</th>\n",
       "      <td>4</td>\n",
       "      <td>93.000</td>\n",
       "    </tr>\n",
       "  </tbody>\n",
       "</table>\n",
       "</div>"
      ],
      "text/plain": [
       "                           patientID2       size\n",
       "channelConfig seizureType                       \n",
       "01_tcp_ar     ABSZ                  1     48.000\n",
       "              CPSZ                 17   1841.300\n",
       "              FNSZ                 98  15230.311\n",
       "              GNSZ                 53   7605.700\n",
       "              MYSZ                  1     23.000\n",
       "              SPSZ                  4   1874.700\n",
       "              TCSZ                  7    382.800\n",
       "              TNSZ                  4    544.700\n",
       "02_tcp_le     ABSZ                  8    831.200\n",
       "              CPSZ                 12   1767.900\n",
       "              FNSZ                 38   4571.911\n",
       "              GNSZ                 16   1461.100\n",
       "              MYSZ                  1     26.000\n",
       "              TCSZ                  2    259.000\n",
       "03_tcp_ar_a   CPSZ                 17   2106.300\n",
       "              FNSZ                 37   5124.150\n",
       "              GNSZ                 16    819.300\n",
       "              TCSZ                  4     93.000"
      ]
     },
     "execution_count": 29,
     "metadata": {},
     "output_type": "execute_result"
    }
   ],
   "source": [
    "df_NoPatient = df.pivot_table(index=['channelConfig','seizureType'],values = 'patientID2',aggfunc=lambda x: len(x.unique()))\n",
    "df_filesize = df.pivot_table(index=['channelConfig','seizureType'],values = 'size',aggfunc=np.sum)\n",
    "pd.concat((df_NoPatient, df_filesize), axis=1)"
   ]
  },
  {
   "cell_type": "code",
   "execution_count": null,
   "metadata": {},
   "outputs": [],
   "source": []
  }
 ],
 "metadata": {
  "kernelspec": {
   "display_name": "Python 3",
   "language": "python",
   "name": "python3"
  },
  "language_info": {
   "codemirror_mode": {
    "name": "ipython",
    "version": 3
   },
   "file_extension": ".py",
   "mimetype": "text/x-python",
   "name": "python",
   "nbconvert_exporter": "python",
   "pygments_lexer": "ipython3",
   "version": "3.6.4"
  }
 },
 "nbformat": 4,
 "nbformat_minor": 2
}
