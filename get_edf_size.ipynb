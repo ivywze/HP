{
 "cells": [
  {
   "cell_type": "markdown",
   "metadata": {},
   "source": [
    "## crawler the TUH web page and get .edf file size for later analysis"
   ]
  },
  {
   "cell_type": "code",
   "execution_count": null,
   "metadata": {},
   "outputs": [],
   "source": [
    "import requests\n",
    "import csv\n",
    "from bs4 import BeautifulSoup\n",
    "import re\n",
    "import pandas as pd"
   ]
  },
  {
   "cell_type": "code",
   "execution_count": null,
   "metadata": {},
   "outputs": [],
   "source": [
    "df = pd.read_csv('data/seizureSummary.csv')"
   ]
  },
  {
   "cell_type": "code",
   "execution_count": null,
   "metadata": {},
   "outputs": [],
   "source": [
    "link = []\n",
    "for i in df['link'].values:\n",
    "    link.append(i)"
   ]
  },
  {
   "cell_type": "code",
   "execution_count": null,
   "metadata": {},
   "outputs": [],
   "source": [
    "\n",
    "final_result = []\n",
    "for i in range(0, 2815):\n",
    "    prefix = link[i][:-18]\n",
    "    suffix = link[i][-18:]\n",
    "    r = requests.get('https://www.isip.piconepress.com/projects/tuh_eeg/downloads/tuh_eeg_seizure/v1.5.2/edf{}'.format(prefix),auth=('nedc', 'nedc_resources'))\n",
    "    r.encoding = 'utf-8'\n",
    "    data = BeautifulSoup(r.text,\"html.parser\")\n",
    "    text = re.split('<a href=', str(data.find_all('pre')))\n",
    "    result = []\n",
    "    for j in range(0,len(text)):\n",
    "        m = re.findall(r'{}.edf</a>\\s\\s+\\d+\\-\\d+\\-\\d+\\s\\d+\\:\\d+\\s\\s+\\d+[\\d+|\\.]\\w+'.format(suffix), text[j])\n",
    "        if len(m)!=0:\n",
    "            result.append(m)\n",
    "    final_result.append(result)\n",
    "    print(\"finish\",i)\n",
    "    "
   ]
  },
  {
   "cell_type": "code",
   "execution_count": null,
   "metadata": {},
   "outputs": [],
   "source": [
    "with open(\"output.csv\", \"w\", newline=\"\") as f:\n",
    "    writer = csv.writer(f)\n",
    "    writer.writerows(final_result)"
   ]
  },
  {
   "cell_type": "code",
   "execution_count": null,
   "metadata": {},
   "outputs": [],
   "source": []
  }
 ],
 "metadata": {
  "kernelspec": {
   "display_name": "Python 3",
   "language": "python",
   "name": "python3"
  },
  "language_info": {
   "codemirror_mode": {
    "name": "ipython",
    "version": 3
   },
   "file_extension": ".py",
   "mimetype": "text/x-python",
   "name": "python",
   "nbconvert_exporter": "python",
   "pygments_lexer": "ipython3",
   "version": "3.6.4"
  }
 },
 "nbformat": 4,
 "nbformat_minor": 2
}
